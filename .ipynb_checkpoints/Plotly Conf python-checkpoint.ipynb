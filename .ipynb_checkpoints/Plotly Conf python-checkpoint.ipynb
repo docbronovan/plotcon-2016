{
 "cells": [
  {
   "cell_type": "code",
   "execution_count": null,
   "metadata": {
    "collapsed": false
   },
   "outputs": [
    {
     "data": {
      "text/html": [
       "<img src=\"https://plotcon.plot.ly/assets/images/plotcon_logo.png\">\n",
       "<h1>Visualizations are fun and stuff<h1>\n"
      ],
      "text/plain": [
       "<IPython.core.display.HTML object>"
      ]
     },
     "metadata": {},
     "output_type": "display_data"
    }
   ],
   "source": [
    "%%HTML\n",
    "<img src=\"https://plotcon.plot.ly/assets/images/plotcon_logo.png\">\n",
    "<h1>Visualizations are fun and stuff<h1>\n",
    "\n"
   ]
  },
  {
   "cell_type": "markdown",
   "metadata": {},
   "source": [
    "PLOTCON is a conference that brings programmers from today’s popular data science languages (Python, R, MATLAB, Julia) to the same table as the Web programmers that are increasingly fueling data visualization technology (D3.js, WebGl, stack.gl, React.js).\n",
    "\n",
    "### Day 1\n",
    "Data Journalism & Web Tech\n",
    "FEATURED SPEAKER Scott Berinato - Senior Editor, Harvard Business Review\n",
    "\n",
    "### Day 2\n",
    "The Enterprise & Productization\n",
    "FEATURED SPEAKER - Stacy Jones - Data Editor at Fortune\n",
    "\n",
    "### Day 3\n",
    "Open Vis in Python\n",
    "FEATURED SPEAKER - Fernando Perez - Creator of IPython\n",
    "\n",
    "### Day 4\n",
    "Open Vis in R\n",
    "FEATURED SPEAKER - Hadley Wickham - Creator of ggplot2 and dplyr RStudio\n"
   ]
  },
  {
   "cell_type": "markdown",
   "metadata": {},
   "source": [
    "## [Plotly](https://plot.ly/products/)\n",
    "- data viz, dashboards, and collaborative analysis. \n",
    "- The initial inspiration for the plot_ly() function was to support plotly.js chart types that ggplot2 doesn’t support, such as 3D surface and mesh plots. Over time, this effort snowballed into an interface to the entire plotly.js graphing library with additional abstractions inspired by the grammar of graphics \n",
    "\n",
    "[Plotly for R](https://plot.ly/r/)\n",
    "\n",
    "[Plotly for Python](https://plot.ly/python/)\n",
    "\n",
    "Online analytics and data visualization tool which allows you to created nice D3 graphs without knowing D3. Plotly provides online graphing, analytics, and statistics tools as well as scientific graphing libraries for Python, R, MATLAB, Perl, Julia.\n",
    "Plotly Free (community edition)\n",
    "- 1 GB of Storage\n",
    "- 50/day clientresp API Calls & 250/day v2 API Calls\n",
    "- 1,000 Views per Chart/day\n",
    "- Excel & CSV Upload\n",
    "- Create 1 Private File of Each Type\n",
    "[Web based dashboard creator](https://plot.ly/create/)"
   ]
  },
  {
   "cell_type": "code",
   "execution_count": null,
   "metadata": {
    "collapsed": false
   },
   "outputs": [],
   "source": [
    "# can run plotly for python in offline mode\n",
    "\n",
    "import plotly\n",
    "plotly.offline.init_notebook_mode()\n",
    "import plotly.graph_objs as go\n",
    "from plotly.offline import download_plotlyjs, plot, iplot\n",
    "from plotly.tools import FigureFactory as FF\n",
    "y1data = [7, 14, 13]\n",
    "y2data = [2, 5, 0]\n",
    "xdata = ['First', 'Second', 'Third']\n",
    "data = [go.Scatter(\n",
    "            x=xdata,\n",
    "            y=y1data\n",
    "            \n",
    "    ),\n",
    "        go.Scatter(\n",
    "            x=xdata,\n",
    "            y=y2data\n",
    "            \n",
    "    ),\n",
    "       ]\n",
    "layout = go.Layout(\n",
    "        title=\"Sample line chart\",\n",
    "        yaxis=dict(\n",
    "            range=[0, max(y1data)]\n",
    "        )\n",
    "        )\n",
    "iplot(go.Figure(data=data, layout=layout))\n",
    "# iplot(go.Figure(data=data, layout=layout), image='png')\n",
    "#iplot(data = data, layout = layout, filename='basic-bar')"
   ]
  },
  {
   "cell_type": "markdown",
   "metadata": {},
   "source": [
    "### Plots below are samples from [plotly's website](https://plot.ly/python/offline/) "
   ]
  },
  {
   "cell_type": "code",
   "execution_count": null,
   "metadata": {
    "collapsed": false
   },
   "outputs": [],
   "source": [
    "from plotly.graph_objs import *\n",
    "import numpy as np\n",
    "\n",
    "x = np.random.randn(2000)\n",
    "y = np.random.randn(2000)\n",
    "iplot([Histogram2dContour(x=x, y=y, contours=Contours(coloring='heatmap')),\n",
    "       Scatter(x=x, y=y, mode='markers', marker=Marker(color='white', size=3, opacity=0.3))], \n",
    "      show_link=False)\n"
   ]
  },
  {
   "cell_type": "code",
   "execution_count": null,
   "metadata": {
    "collapsed": false
   },
   "outputs": [],
   "source": [
    "# Pull apple stock data and vizualize\n",
    "import pandas as pd\n",
    "import pandas_datareader.data as web\n",
    "import datetime\n",
    "start = datetime.datetime(2007, 10, 1)\n",
    "end = datetime.datetime(2009, 4, 1)\n",
    "df = web.DataReader(\"aapl\", 'yahoo',\n",
    "            start,\n",
    "            end\n",
    "        )\n",
    "\n",
    "trace = go.Scatter(x=df.index,\n",
    "                   y=df.High)\n",
    "\n",
    "data = [trace]\n",
    "layout = dict(\n",
    "    title='Time series with range slider and selectors',\n",
    "    xaxis=dict(\n",
    "        rangeselector=dict(\n",
    "            buttons=list([\n",
    "                dict(count=1,\n",
    "                     label='1m',\n",
    "                     step='month',\n",
    "                     stepmode='backward'),\n",
    "                dict(count=6,\n",
    "                     label='6m',\n",
    "                     step='month',\n",
    "                     stepmode='backward'),\n",
    "                dict(count=1,\n",
    "                    label='YTD',\n",
    "                    step='year',\n",
    "                    stepmode='todate'),\n",
    "                dict(count=1,\n",
    "                    label='1y',\n",
    "                    step='year',\n",
    "                    stepmode='backward'),\n",
    "                dict(step='all')\n",
    "            ])\n",
    "        ),\n",
    "        rangeslider=dict(),\n",
    "        type='date'\n",
    "    )\n",
    ")\n",
    "\n",
    "fig = dict(data=data, layout=layout)\n",
    "\n",
    "\n",
    "iplot(fig)\n"
   ]
  },
  {
   "cell_type": "markdown",
   "metadata": {},
   "source": [
    "### Can also create charts in Plotly using R\n",
    "Link to [Jupyter R notebook](Plotly Conf R.ipynb)"
   ]
  },
  {
   "cell_type": "markdown",
   "metadata": {},
   "source": [
    "# Vega-Lite\n",
    "Vega is a visualization grammar, a declarative format for creating, saving, and sharing interactive visualization designs. Vega-Lite is a high-level language for rapidly creating visualizations for analysis and presentation. Vega-lite automatically produces visualization components including axes, legends, and scales. You don’t have to get into the low level detail. [Web-based Vega Editor](http://vega.github.io/vega-editor/?mode=vega-lite).\n",
    "\n",
    "#### Some parameters\n",
    "aggregate - \"average\", \"count\", \"valid\", \"missing\", \"distinct\", \"sum\", \"mean\", \"variance\", \"variancep\", \"stdev\", \"stdevp\", \"median\", \"q1\", \"q3\", \"modeskew\", \"min\", \"max\"\n",
    "\n",
    "mark - \"bar\", \"circle\", \"square\", \"tick\", \"line\", \"area\", \"point\", and \"text\" (text table).\n",
    "\n",
    "\n",
    "APIs for several languages including Python and R:\n",
    "\n",
    "[Altair](https://github.com/ellisonbg/altair) exposes a Python API for building statistical visualizations that follows Vega-Lite syntax.\n",
    "\n",
    "[vegaliteR](https://github.com/hrbrmstr/vegalite) provides HTML widgets for Vega-Lite in R."
   ]
  },
  {
   "cell_type": "code",
   "execution_count": null,
   "metadata": {
    "collapsed": false
   },
   "outputs": [],
   "source": [
    "# vega-lite  Altair \n",
    "from altair import datasets, Chart\n",
    "\n",
    "data = datasets.load_dataset('cars')\n",
    "\n",
    "c = Chart(data).mark_circle().encode(\n",
    "    x='Horsepower',\n",
    "    y='Miles_per_Gallon',\n",
    "    color='Origin',\n",
    ")\n",
    "\n",
    "c # save the chart as a variable and display here"
   ]
  },
  {
   "cell_type": "markdown",
   "metadata": {
    "collapsed": false
   },
   "source": [
    "### Tableau & Plotly for Collaboration\n",
    "\n",
    "You can use Plotlys APIs and data extractor then embed graphs in Tableau dashboards. \n",
    "Can also combine dashboards using Plotly and Tableau. \n",
    "Can use jupyter notebooks with plotly and tableau\n",
    "There is a free version of Tableau\n",
    "Can use plotly and tableau together in tableau public\n",
    "\n",
    "[Tableau + Plotly example](https://public.tableau.com/profile/ben.jones#!/vizhome/TableauPlotlyPeaks/Globe)\n",
    "\n",
    "The downside is, when using the free version your data is available to the public, have to pay for your own server instance"
   ]
  },
  {
   "cell_type": "markdown",
   "metadata": {
    "collapsed": false
   },
   "source": [
    "### Visualizing 100,000,000 Music Fans\n",
    "Edward Lee - head of Apps & Visualization team Spotify. \n",
    "How to make data understandable and actionable\n",
    "100 million + users, billions of plays per day. Look at data in aggregate but also want to be able to see individual user activity\n",
    "<img src=\"http://edwardclementlee.com/content/familiarity-vs-discovery-full.png\">\n"
   ]
  },
  {
   "cell_type": "markdown",
   "metadata": {
    "collapsed": true
   },
   "source": [
    "## IBM Watson\n",
    "\n",
    "IBM makes available free instances of IBM Watson. Also, there are paid instances for as low as $30/month\n",
    "[IBM watson free](https://www.ibm.com/marketplace/cloud/watson-analytics/purchase/us/en-us#product-header-top) (for 30 days)\n",
    "\n",
    "[My Free instance](https://myibm.ibm.com/products-services/?partNum=V0EyUFJPVFJJQUw=&subID=NTAxNzU2MTY1)"
   ]
  },
  {
   "cell_type": "markdown",
   "metadata": {},
   "source": [
    "## DASK\n",
    "A Python library for parallel computing. Dask, fundamentally, is a lightweight generator of task graphs for Python. A task graph is a way of describing a sequence of operations so that they can be executed at a later point. By building these task graphs, Dask describes the exact sequence of inputs, operations, and outputs that your algorithm requires, and can send this description to a variety of backends for efficient parallel and/or out-of-core computation.\n",
    "\n",
    "- dask.bag: create task graphs using a functional programming style\n",
    "\n",
    "- dask.array: create task graphs using a NumPy-like array interface\n",
    "\n",
    "- dask.dataframe: create task graphs using a Pandas-like DataFrame interface"
   ]
  },
  {
   "cell_type": "markdown",
   "metadata": {},
   "source": [
    "[Dask Presentation Slides](http://matthewrocklin.com/slides/plotcon-2016.html#/)\n",
    "\n",
    "[Dask blog post](https://jakevdp.github.io/blog/2015/08/14/out-of-core-dataframes-in-python/)\n",
    "\n",
    "[Dask talk at PyData Seattle 2015](https://www.youtube.com/watch?v=ieW3G7ZzRZ0)"
   ]
  },
  {
   "cell_type": "markdown",
   "metadata": {},
   "source": [
    "Dask allows us to use very similar code to build a task graph describing these operations."
   ]
  },
  {
   "cell_type": "markdown",
   "metadata": {},
   "source": [
    "[Task Graph Example](Dask examples.ipynb)"
   ]
  },
  {
   "cell_type": "markdown",
   "metadata": {},
   "source": [
    "## DASH\n",
    "Shiny-like web framework for python\n",
    "[quickstart](http://plotly-dash.herokuapp.com/)\n",
    "\n",
    "[Dash & Plotly Example](http://plotly-dash.herokuapp.com/slider-example/)"
   ]
  },
  {
   "cell_type": "markdown",
   "metadata": {},
   "source": [
    "## Bokeh\n",
    "An interactive visualization library which targets web browsers for presentations\n",
    "\n",
    "[Bokeh App](https://demo.bokehplots.com/apps/movies)\n",
    "\n",
    "[Bokeh example - Periodic Table](http://bokeh.pydata.org/en/latest/docs/gallery/periodic.html)"
   ]
  },
  {
   "cell_type": "markdown",
   "metadata": {},
   "source": [
    "## Polyglot Visualization with the Beaker Notebook\n",
    "Scott Draves\n",
    "[Beaker](http://beakernotebook.com/) is an open source tool for data analysis and data visualization.\n",
    "\n",
    "BEAKER - the data scientist's laboratory\n",
    "Notebook-style development\n",
    "Free cloud hosted way to try it\n",
    "create beaker object which can be acted upon in many different languages, auto translation. Passes json objects between languages\n",
    "\n",
    "\n",
    "### set in python\n",
    "\n",
    "beaker.x = 10\n",
    "\n",
    "\n",
    "### update in JS\n",
    "\n",
    "beaker.x+1 \n",
    "\n",
    "\n",
    "\n",
    "### acts on same object\n",
    "\n",
    "returns 11\n",
    "\n"
   ]
  },
  {
   "cell_type": "markdown",
   "metadata": {},
   "source": [
    "## Domain Specific visualizations\n",
    "\n",
    "[yt project](http://yt-project.org/)\n",
    "\n",
    "space is cool! Also, domain specific defaults can be very useful."
   ]
  },
  {
   "cell_type": "markdown",
   "metadata": {},
   "source": [
    "## At Least 23 Visualizations and When to Use Them in 30 Minutes\n",
    "Eduardo Ariño de la Rubia - Chief Data Scientist at Domino Data Lab\n",
    "categories\n",
    "- deviation\n",
    "- correlation\n",
    "- ranking\n",
    "- distribution\n",
    "- change\n",
    "- composition\n",
    "- spatial\n",
    "\n",
    "\n",
    "\n",
    "\n",
    "**deviation**\n",
    "\n",
    "  - diverging bar - have mean value or reference value.\n",
    "  - spine charts - splits value into 2 contrasting components\n",
    "  - area charts - variation from baseline\n",
    "  \n",
    "**correlation**\n",
    "\n",
    "  - scatterplot - two continuous variables, each has its own axis\n",
    "  - bubble - adds detail to scatterplot by sizing the circles according to third variable and color for fourth .\n",
    "  - animated bubble - adds animation as 5th dimension to bubble chart\n",
    "  - heat maps - showing the pattern between two categories, macro patterns\n",
    "  \n",
    "**ranking**\n",
    "\n",
    "  - ordered bar - horizontal\n",
    "  - ordered column charts - he doesn't like them\n",
    "  - slope graph - how ranks have changed over time. can become unmanageable with lots of lines\n",
    "  - lollipop charts - draws more attention to the top value in the bar\n",
    "  \n",
    "**distribution**\n",
    "\n",
    "  - histogram - 85% of ds is histograms\n",
    "  - boxplot - shows median and range\n",
    "  - violin plots - only experts understand violin plot. people don't really \n",
    "                  understand them\n",
    "  - population pyramids -  breakdown of population distribution\n",
    "  \n",
    "**change**\n",
    "\n",
    "  - line charts - show changing time series. good when x-axis has a lot of \n",
    "                points. pseudo continuous\n",
    "  - fan charts - use to show uncertainty in future projections. adds \n",
    "                confidence intervals to line chart\n",
    "  - area chart - lots of things changing overtime. change in components can be difficult.\n",
    "  - calendar heat map - way of showing temporal patterns at the expense of \n",
    "                      precision. good at macro patterns\n",
    "                      \n",
    "**composition**\n",
    "  \n",
    "  how a single element can be broken down into its components\n",
    "  - stacked column - simple way to show part to whole relationship. can be \n",
    "                    hard to read with more than a few components.\n",
    "  - Pie chart - never use with more than 2 components\n",
    "  - waffle - good for showing percentage composition. can kind of just use numbers instead though. 2,4,10 is easier to read\n",
    "  \n",
    "**spatial**\n",
    "\n",
    "  - population tiles - great way of showing how areas have different sizes. [tielgramsR](https://bhaskarvk.github.io/tilegramsR/) is amazing\n",
    "  - regionHex - keeps shape and layout consistent\n",
    "  - heat map - grid based data values mapped with an intensity color scale. Be \n",
    "              careful it's not just a map of population density\n",
    "\n",
    "\n",
    "conclusion: there are a lot of choices. pick the right one"
   ]
  },
  {
   "cell_type": "markdown",
   "metadata": {},
   "source": []
  },
  {
   "cell_type": "markdown",
   "metadata": {
    "collapsed": true
   },
   "source": [
    "## That's all. Happy Thanksgiving!!!!\n",
    "<img src =\"http://tofurky.tofurky.netdna-cdn.com/wp-content/uploads/2016/01/tofurky-holiday-feast-main.png\">"
   ]
  }
 ],
 "metadata": {
  "kernelspec": {
   "display_name": "Python 2",
   "language": "python",
   "name": "python2"
  },
  "language_info": {
   "codemirror_mode": {
    "name": "ipython",
    "version": 2
   },
   "file_extension": ".py",
   "mimetype": "text/x-python",
   "name": "python",
   "nbconvert_exporter": "python",
   "pygments_lexer": "ipython2",
   "version": "2.7.12"
  }
 },
 "nbformat": 4,
 "nbformat_minor": 0
}
